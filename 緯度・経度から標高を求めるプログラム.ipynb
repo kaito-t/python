{
  "nbformat": 4,
  "nbformat_minor": 0,
  "metadata": {
    "colab": {
      "name": "緯度・経度から標高を求めるプログラム.ipynb",
      "provenance": []
    },
    "kernelspec": {
      "name": "python3",
      "display_name": "Python 3"
    },
    "language_info": {
      "name": "python"
    }
  },
  "cells": [
    {
      "cell_type": "code",
      "metadata": {
        "id": "rLIT4d9xUH4N",
        "colab": {
          "base_uri": "https://localhost:8080/"
        },
        "outputId": "4373c462-de6d-4fca-d6f0-3f35083fac73"
      },
      "source": [
        "import requests\n",
        "\n",
        "lat = float(input(\"緯度を入力してください\"))\n",
        "lon = float(input(\"経度を入力してください\"))\n",
        "\n",
        "url = \"http://cyberjapandata2.gsi.go.jp/general/dem/scripts/getelevation.php\" \\\n",
        "       \"?lon=%s&lat=%s&outtype=%s\" %(lon, lat, \"JSON\")\n",
        "\n",
        "resp = requests.get(url, timeout=10)\n",
        "data = resp.json()\n",
        "\n",
        "print(data[\"elevation\"])"
      ],
      "execution_count": null,
      "outputs": [
        {
          "output_type": "stream",
          "text": [
            "緯度を入力してください35.6809591 \n",
            "経度を入力してください139.7673068\n",
            "3.2\n"
          ],
          "name": "stdout"
        }
      ]
    },
    {
      "cell_type": "code",
      "metadata": {
        "id": "Q-YjuyrKkfX-"
      },
      "source": [
        ""
      ],
      "execution_count": null,
      "outputs": []
    }
  ]
}